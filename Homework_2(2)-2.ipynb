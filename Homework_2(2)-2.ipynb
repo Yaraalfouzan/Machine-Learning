{
  "cells": [
    {
      "cell_type": "markdown",
      "id": "7ef655e7",
      "metadata": {
        "id": "7ef655e7"
      },
      "source": [
        "# Import Necessary Libraries"
      ]
    },
    {
      "cell_type": "code",
      "execution_count": 9,
      "id": "fff4fd3a",
      "metadata": {
        "id": "fff4fd3a"
      },
      "outputs": [],
      "source": [
        "import numpy as np\n",
        "import pandas as pd\n",
        "import matplotlib.pyplot as plt\n",
        "from sklearn.preprocessing import LabelEncoder\n",
        "from sklearn.model_selection import train_test_split\n",
        "from sklearn.linear_model import LogisticRegression\n",
        "from sklearn.metrics import accuracy_score, f1_score\n"
      ]
    },
    {
      "cell_type": "markdown",
      "id": "320f18b9",
      "metadata": {
        "id": "320f18b9"
      },
      "source": [
        "# Dataset Loading, Exploration & Preprocessing"
      ]
    },
    {
      "cell_type": "code",
      "source": [
        "from google.colab import drive\n",
        "drive.mount('/content/drive')"
      ],
      "metadata": {
        "colab": {
          "base_uri": "https://localhost:8080/"
        },
        "id": "RxFFoOWDZb3B",
        "outputId": "14b799fa-564e-475f-9456-3927fed8578e"
      },
      "id": "RxFFoOWDZb3B",
      "execution_count": null,
      "outputs": [
        {
          "output_type": "stream",
          "name": "stdout",
          "text": [
            "Mounted at /content/drive\n"
          ]
        }
      ]
    },
    {
      "cell_type": "code",
      "execution_count": null,
      "id": "5fb07a83",
      "metadata": {
        "id": "5fb07a83",
        "colab": {
          "base_uri": "https://localhost:8080/"
        },
        "outputId": "218919e3-90fa-43ec-ce78-6685534ff7e5"
      },
      "outputs": [
        {
          "output_type": "stream",
          "name": "stdout",
          "text": [
            "   user_id  age  annual_income  purchase_amount  loyalty_score region  \\\n",
            "0        1   25          45000              200            4.5  North   \n",
            "1        2   34          55000              350            7.0  South   \n",
            "2        3   45          65000              500            8.0   West   \n",
            "3        4   22          30000              150            3.0   East   \n",
            "4        5   29          47000              220            4.8  North   \n",
            "\n",
            "   purchase_frequency  \n",
            "0                  12  \n",
            "1                  18  \n",
            "2                  22  \n",
            "3                  10  \n",
            "4                  13  \n",
            "<class 'pandas.core.frame.DataFrame'>\n",
            "RangeIndex: 238 entries, 0 to 237\n",
            "Data columns (total 7 columns):\n",
            " #   Column              Non-Null Count  Dtype  \n",
            "---  ------              --------------  -----  \n",
            " 0   user_id             238 non-null    int64  \n",
            " 1   age                 238 non-null    int64  \n",
            " 2   annual_income       238 non-null    int64  \n",
            " 3   purchase_amount     238 non-null    int64  \n",
            " 4   loyalty_score       238 non-null    float64\n",
            " 5   region              238 non-null    object \n",
            " 6   purchase_frequency  238 non-null    int64  \n",
            "dtypes: float64(1), int64(5), object(1)\n",
            "memory usage: 13.1+ KB\n",
            "None\n",
            "\n",
            " numerical features  Index(['user_id', 'age', 'annual_income', 'purchase_amount', 'loyalty_score',\n",
            "       'purchase_frequency'],\n",
            "      dtype='object')\n",
            "\n",
            " categorical features  Index(['region'], dtype='object')\n",
            "   region_East  region_North  region_South  region_West  user_id  age  \\\n",
            "0            0             1             0            0        1   25   \n",
            "1            0             0             1            0        2   34   \n",
            "2            0             0             0            1        3   45   \n",
            "3            1             0             0            0        4   22   \n",
            "4            0             1             0            0        5   29   \n",
            "\n",
            "   annual_income  purchase_amount  loyalty_score  purchase_frequency  \\\n",
            "0          45000              200            4.5                  12   \n",
            "1          55000              350            7.0                  18   \n",
            "2          65000              500            8.0                  22   \n",
            "3          30000              150            3.0                  10   \n",
            "4          47000              220            4.8                  13   \n",
            "\n",
            "  purchase_frequency_category  \n",
            "0                         Low  \n",
            "1                         Low  \n",
            "2                        High  \n",
            "3                         Low  \n",
            "4                         Low  \n"
          ]
        }
      ],
      "source": [
        "# 1. Load the dataset\n",
        "\n",
        "path=\"/content/drive/MyDrive/newCustomer_Purchasing_Behaviors(3).csv\"\n",
        "df=pd.read_csv(path)\n",
        "\n",
        "\n",
        "# 2. Examine the dataset and identify the types of features (e.g., numerical, categorical).\n",
        "print(df.head())\n",
        "print(df.info())\n",
        "print (\"\\n numerical features \", df.select_dtypes(include=['int64', 'float64']).columns)\n",
        "print (\"\\n categorical features \", df.select_dtypes(include=['object']).columns)\n",
        "\n",
        "# One-hot encode categorical variables\n",
        "# 3. Convert all categorical features to numerical format using one-hot encoding.\n",
        "\n",
        "df_onehot = pd.get_dummies(df.select_dtypes(include=['object']), dtype=int)\n",
        "df_onehot = pd.concat([df_onehot, df.select_dtypes(include=['int64', 'float64'])], axis=1)\n",
        "\n",
        "# 4. Discretizing Purchase Frequency into High and Low categories (based on mean)\n",
        "\n",
        "mean_purchase_frequency = df_onehot['purchase_frequency'].mean()\n",
        "df_onehot['purchase_frequency_category'] = pd.cut(df['purchase_frequency'], bins=[0, mean_purchase_frequency, float('inf')], labels=['Low', 'High'])\n",
        "print(df_onehot.head())\n",
        "\n",
        "# 5. Select purchase_frequency_category as the target variable (y) and use all other features except (purchase_frequency) as the input features (X).\n",
        "\n",
        "y = df_onehot['purchase_frequency_category']\n",
        "X = df_onehot.drop(['purchase_frequency', 'purchase_frequency_category'], axis=1)\n",
        "\n",
        "# 6. Split the dataset into training (80%) and testing (20%) sets.\n",
        "X_train, X_test, y_train, y_test = train_test_split(X, y, test_size=0.2, random_state=42)\n",
        "\n",
        "\n"
      ]
    },
    {
      "cell_type": "markdown",
      "id": "3c0a03c3",
      "metadata": {
        "id": "3c0a03c3"
      },
      "source": [
        "# Logistic Regression Using Normal Equation"
      ]
    },
    {
      "cell_type": "code",
      "source": [
        "# 1. Implement logistic regression using the normal equation formula.\n",
        "\n",
        "# Sigmoid function for logistic regression\n",
        "def sigmoid(z):\n",
        "    return 1 / (1 + np.exp(-z))\n",
        "\n",
        "# Function to apply the normal equation to logistic regression\n",
        "def logistic_regression_normal_equation(X, y):\n",
        "\n",
        "    # Convert y to numerical values (0 and 1)\n",
        "    y_numeric= np.where(y== 'High', 1, 0)\n",
        "\n",
        "    # Add bias term (intercept) to feature matrix\n",
        "    X_augmented = np.hstack((np.ones((X.shape[0], 1)), X))\n",
        "\n",
        "    # Calculate theta using the normal equation\n",
        "    theta = np.linalg.inv(X_augmented.T @ X_augmented) @ X_augmented.T @ y_numeric\n",
        "    return theta\n",
        "\n",
        "# Function to make predictions using learned parameters\n",
        "def predict(X, theta):\n",
        "    # Add bias term (intercept) to test feature matrix\n",
        "    X_augmented = np.hstack((np.ones((X.shape[0], 1)), X))\n",
        "\n",
        "    # Calculate predictions using sigmoid\n",
        "    return sigmoid(X_augmented @ theta)\n",
        "\n",
        "# Train logistic regression using the normal equation\n",
        "theta = logistic_regression_normal_equation(X_train.to_numpy(), y_train)\n",
        "\n",
        "# 2. Predict probabilities on the test set\n",
        "y_pred_prob = predict(X_test.to_numpy(), theta)\n",
        "\n",
        "# Convert probabilities to binary predictions (0 or 1)\n",
        "y_pred = (y_pred_prob >= 0.5).astype(int)\n",
        "\n",
        "# Convert y_test to numerical values for accuracy and F1 score\n",
        "y_test_numeric = np.where(y_test == 'High', 1, 0)\n",
        "\n",
        "# 3. Calculate accuracy and F1 score\n",
        "accuracy = accuracy_score(y_test_numeric, y_pred)\n",
        "f1 = f1_score(y_test_numeric, y_pred)\n",
        "\n",
        "print(\"Accuracy:\", accuracy)\n",
        "print(\"F1 Score:\", f1)"
      ],
      "metadata": {
        "colab": {
          "base_uri": "https://localhost:8080/"
        },
        "id": "AQ1t7QvOwHZb",
        "outputId": "9bebadbf-08d6-42aa-97ee-3ce367c47677"
      },
      "id": "AQ1t7QvOwHZb",
      "execution_count": null,
      "outputs": [
        {
          "output_type": "stream",
          "name": "stdout",
          "text": [
            "Accuracy: 0.5625\n",
            "F1 Score: 0.72\n"
          ]
        }
      ]
    },
    {
      "cell_type": "markdown",
      "id": "91ed31b0",
      "metadata": {
        "id": "91ed31b0"
      },
      "source": [
        "# Logistic Regression Using Sklearn Library"
      ]
    },
    {
      "cell_type": "code",
      "execution_count": null,
      "id": "4a078757",
      "metadata": {
        "id": "4a078757",
        "colab": {
          "base_uri": "https://localhost:8080/"
        },
        "outputId": "7b270dc0-42e5-48c2-c86b-f1421e27bac2"
      },
      "outputs": [
        {
          "output_type": "stream",
          "name": "stdout",
          "text": [
            "Accuracy (Sklearn): 0.9375\n",
            "F1 Score (Sklearn): 0.9433962264150944\n"
          ]
        },
        {
          "output_type": "stream",
          "name": "stderr",
          "text": [
            "/usr/local/lib/python3.10/dist-packages/sklearn/linear_model/_logistic.py:469: ConvergenceWarning: lbfgs failed to converge (status=1):\n",
            "STOP: TOTAL NO. of ITERATIONS REACHED LIMIT.\n",
            "\n",
            "Increase the number of iterations (max_iter) or scale the data as shown in:\n",
            "    https://scikit-learn.org/stable/modules/preprocessing.html\n",
            "Please also refer to the documentation for alternative solver options:\n",
            "    https://scikit-learn.org/stable/modules/linear_model.html#logistic-regression\n",
            "  n_iter_i = _check_optimize_result(\n"
          ]
        }
      ],
      "source": [
        "# 1. Implement logistic regression model using the LogisticRegression from sklearn.\n",
        "model = LogisticRegression()\n",
        "model.fit(X_train, y_train)\n",
        "\n",
        "# 2. Predict using sklearn library\n",
        "y_pred_sklearn = model.predict(X_test)\n",
        "\n",
        "# 3. Calculate Accuracy and F1 score\n",
        "accuracy_sklearn = accuracy_score(y_test, y_pred_sklearn)\n",
        "f1_sklearn = f1_score(y_test, y_pred_sklearn, pos_label='High')\n",
        "\n",
        "print(\"Accuracy (Sklearn):\", accuracy_sklearn)\n",
        "print(\"F1 Score (Sklearn):\", f1_sklearn)\n",
        "\n"
      ]
    },
    {
      "cell_type": "markdown",
      "id": "6a6e67bd",
      "metadata": {
        "id": "6a6e67bd"
      },
      "source": [
        "# Feature Engineering and Re-evaluation"
      ]
    },
    {
      "cell_type": "code",
      "execution_count": 10,
      "id": "feff8025",
      "metadata": {
        "scrolled": true,
        "id": "feff8025",
        "colab": {
          "base_uri": "https://localhost:8080/"
        },
        "outputId": "09e784ec-ad9a-4239-bb64-9afa2dfebba8"
      },
      "outputs": [
        {
          "output_type": "stream",
          "name": "stdout",
          "text": [
            "Accuracy (Scikit-learn): 1.0\n",
            "F1 Score (Scikit-learn): 1.0\n"
          ]
        }
      ],
      "source": [
        "# 1. Create a new feature by squaring the purchase amount feature to capture a potential non-linear relationship.\n",
        "df_onehot['purchase_amount_squared'] = df_onehot['purchase_amount'] ** 2\n",
        "\n",
        "# 2. Re-split the data to include the new feature.\n",
        "y = df_onehot['purchase_frequency_category']\n",
        "X = df_onehot.drop(['purchase_frequency', 'purchase_frequency_category'], axis=1)\n",
        "X_train2, X_test2, y_train2, y_test2 = train_test_split(X, y, test_size=0.2, random_state=42)\n",
        "\n",
        "# 3. Fit a new sklearn logistic regression model using the original features plus the new quadratic feature.\n",
        "#model_sklearn_quadratic = LogisticRegression(max_iter=1000)\n",
        "model_sklearn_quadratic = LogisticRegression()\n",
        "model_sklearn_quadratic.fit(X_train2, y_train2)\n",
        "\n",
        "# 4. Predict the test data and calculate Accuracy and F1 score for the new sklearn model.\n",
        "\n",
        "y_pred_sklearn_quadratic = model_sklearn_quadratic.predict(X_test2)\n",
        "accuracy_sklearn = accuracy_score(y_test2, y_pred_sklearn_quadratic)\n",
        "f1_sklearn = f1_score(y_test2, y_pred_sklearn_quadratic, pos_label='High')\n",
        "\n",
        "print(\"Accuracy (Scikit-learn):\", accuracy_sklearn)\n",
        "print(\"F1 Score (Scikit-learn):\", f1_sklearn)\n",
        "\n"
      ]
    }
  ],
  "metadata": {
    "kernelspec": {
      "display_name": "Python 3 (ipykernel)",
      "language": "python",
      "name": "python3"
    },
    "language_info": {
      "codemirror_mode": {
        "name": "ipython",
        "version": 3
      },
      "file_extension": ".py",
      "mimetype": "text/x-python",
      "name": "python",
      "nbconvert_exporter": "python",
      "pygments_lexer": "ipython3",
      "version": "3.11.5"
    },
    "colab": {
      "provenance": []
    }
  },
  "nbformat": 4,
  "nbformat_minor": 5
}